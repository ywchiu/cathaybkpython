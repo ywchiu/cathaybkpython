{
 "cells": [
  {
   "cell_type": "code",
   "execution_count": 2,
   "metadata": {},
   "outputs": [
    {
     "data": {
      "text/html": [
       "<div>\n",
       "<style>\n",
       "    .dataframe thead tr:only-child th {\n",
       "        text-align: right;\n",
       "    }\n",
       "\n",
       "    .dataframe thead th {\n",
       "        text-align: left;\n",
       "    }\n",
       "\n",
       "    .dataframe tbody tr th {\n",
       "        vertical-align: top;\n",
       "    }\n",
       "</style>\n",
       "<table border=\"1\" class=\"dataframe\">\n",
       "  <thead>\n",
       "    <tr style=\"text-align: right;\">\n",
       "      <th></th>\n",
       "      <th>Date</th>\n",
       "      <th>Open</th>\n",
       "      <th>High</th>\n",
       "      <th>Low</th>\n",
       "      <th>Close</th>\n",
       "      <th>Adj Close</th>\n",
       "      <th>Volume</th>\n",
       "    </tr>\n",
       "  </thead>\n",
       "  <tbody>\n",
       "    <tr>\n",
       "      <th>0</th>\n",
       "      <td>2017-12-11</td>\n",
       "      <td>228.5</td>\n",
       "      <td>229.0</td>\n",
       "      <td>227.0</td>\n",
       "      <td>227.5</td>\n",
       "      <td>219.500000</td>\n",
       "      <td>20649609</td>\n",
       "    </tr>\n",
       "    <tr>\n",
       "      <th>1</th>\n",
       "      <td>2017-12-12</td>\n",
       "      <td>229.5</td>\n",
       "      <td>229.5</td>\n",
       "      <td>225.0</td>\n",
       "      <td>227.5</td>\n",
       "      <td>219.500000</td>\n",
       "      <td>21796584</td>\n",
       "    </tr>\n",
       "    <tr>\n",
       "      <th>2</th>\n",
       "      <td>2017-12-13</td>\n",
       "      <td>227.5</td>\n",
       "      <td>228.0</td>\n",
       "      <td>226.5</td>\n",
       "      <td>227.0</td>\n",
       "      <td>219.017578</td>\n",
       "      <td>17920331</td>\n",
       "    </tr>\n",
       "    <tr>\n",
       "      <th>3</th>\n",
       "      <td>2017-12-14</td>\n",
       "      <td>228.0</td>\n",
       "      <td>230.5</td>\n",
       "      <td>227.5</td>\n",
       "      <td>230.5</td>\n",
       "      <td>222.394501</td>\n",
       "      <td>17193313</td>\n",
       "    </tr>\n",
       "    <tr>\n",
       "      <th>4</th>\n",
       "      <td>2017-12-15</td>\n",
       "      <td>228.5</td>\n",
       "      <td>230.0</td>\n",
       "      <td>226.5</td>\n",
       "      <td>230.0</td>\n",
       "      <td>221.912094</td>\n",
       "      <td>42625779</td>\n",
       "    </tr>\n",
       "  </tbody>\n",
       "</table>\n",
       "</div>"
      ],
      "text/plain": [
       "         Date   Open   High    Low  Close   Adj Close    Volume\n",
       "0  2017-12-11  228.5  229.0  227.0  227.5  219.500000  20649609\n",
       "1  2017-12-12  229.5  229.5  225.0  227.5  219.500000  21796584\n",
       "2  2017-12-13  227.5  228.0  226.5  227.0  219.017578  17920331\n",
       "3  2017-12-14  228.0  230.5  227.5  230.5  222.394501  17193313\n",
       "4  2017-12-15  228.5  230.0  226.5  230.0  221.912094  42625779"
      ]
     },
     "execution_count": 2,
     "metadata": {},
     "output_type": "execute_result"
    }
   ],
   "source": [
    "import pandas\n",
    "df = pandas.read_csv('https://raw.githubusercontent.com/ywchiu/cathaybkpython/master/data/2330.TW.csv')\n",
    "df.head()"
   ]
  },
  {
   "cell_type": "code",
   "execution_count": 3,
   "metadata": {},
   "outputs": [
    {
     "name": "stdout",
     "output_type": "stream",
     "text": [
      "Requirement already satisfied: pandas_datareader in /Users/davidchiu/.pyenv/versions/3.6.2/lib/python3.6/site-packages\n",
      "Requirement already satisfied: pandas>=0.17.0 in /Users/davidchiu/.pyenv/versions/3.6.2/lib/python3.6/site-packages (from pandas_datareader)\n",
      "Requirement already satisfied: requests-ftp in /Users/davidchiu/.pyenv/versions/3.6.2/lib/python3.6/site-packages (from pandas_datareader)\n",
      "Requirement already satisfied: requests-file in /Users/davidchiu/.pyenv/versions/3.6.2/lib/python3.6/site-packages (from pandas_datareader)\n",
      "Requirement already satisfied: requests>=2.3.0 in /Users/davidchiu/.pyenv/versions/3.6.2/lib/python3.6/site-packages (from pandas_datareader)\n",
      "Requirement already satisfied: numpy>=1.7.0 in /Users/davidchiu/.pyenv/versions/3.6.2/lib/python3.6/site-packages (from pandas>=0.17.0->pandas_datareader)\n",
      "Requirement already satisfied: python-dateutil>=2 in /Users/davidchiu/.pyenv/versions/3.6.2/lib/python3.6/site-packages (from pandas>=0.17.0->pandas_datareader)\n",
      "Requirement already satisfied: pytz>=2011k in /Users/davidchiu/.pyenv/versions/3.6.2/lib/python3.6/site-packages (from pandas>=0.17.0->pandas_datareader)\n",
      "Requirement already satisfied: six in /Users/davidchiu/.pyenv/versions/3.6.2/lib/python3.6/site-packages (from requests-file->pandas_datareader)\n",
      "Requirement already satisfied: certifi>=2017.4.17 in /Users/davidchiu/.pyenv/versions/3.6.2/lib/python3.6/site-packages (from requests>=2.3.0->pandas_datareader)\n",
      "Requirement already satisfied: idna<2.8,>=2.5 in /Users/davidchiu/.pyenv/versions/3.6.2/lib/python3.6/site-packages (from requests>=2.3.0->pandas_datareader)\n",
      "Requirement already satisfied: urllib3<1.25,>=1.21.1 in /Users/davidchiu/.pyenv/versions/3.6.2/lib/python3.6/site-packages (from requests>=2.3.0->pandas_datareader)\n",
      "Requirement already satisfied: chardet<3.1.0,>=3.0.2 in /Users/davidchiu/.pyenv/versions/3.6.2/lib/python3.6/site-packages (from requests>=2.3.0->pandas_datareader)\n",
      "\u001b[33mYou are using pip version 9.0.1, however version 18.1 is available.\n",
      "You should consider upgrading via the 'pip install --upgrade pip' command.\u001b[0m\n"
     ]
    }
   ],
   "source": [
    "! pip install pandas_datareader"
   ]
  },
  {
   "cell_type": "code",
   "execution_count": 4,
   "metadata": {},
   "outputs": [],
   "source": [
    "from pandas_datareader import get_data_yahoo\n",
    "tw2330 = get_data_yahoo('2330.TW')"
   ]
  },
  {
   "cell_type": "code",
   "execution_count": 6,
   "metadata": {},
   "outputs": [
    {
     "data": {
      "text/html": [
       "<div>\n",
       "<style>\n",
       "    .dataframe thead tr:only-child th {\n",
       "        text-align: right;\n",
       "    }\n",
       "\n",
       "    .dataframe thead th {\n",
       "        text-align: left;\n",
       "    }\n",
       "\n",
       "    .dataframe tbody tr th {\n",
       "        vertical-align: top;\n",
       "    }\n",
       "</style>\n",
       "<table border=\"1\" class=\"dataframe\">\n",
       "  <thead>\n",
       "    <tr style=\"text-align: right;\">\n",
       "      <th></th>\n",
       "      <th>Open</th>\n",
       "      <th>High</th>\n",
       "      <th>Low</th>\n",
       "      <th>Close</th>\n",
       "      <th>Adj Close</th>\n",
       "      <th>Volume</th>\n",
       "    </tr>\n",
       "    <tr>\n",
       "      <th>Date</th>\n",
       "      <th></th>\n",
       "      <th></th>\n",
       "      <th></th>\n",
       "      <th></th>\n",
       "      <th></th>\n",
       "      <th></th>\n",
       "    </tr>\n",
       "  </thead>\n",
       "  <tbody>\n",
       "    <tr>\n",
       "      <th>2010-01-04</th>\n",
       "      <td>65.000000</td>\n",
       "      <td>65.000000</td>\n",
       "      <td>64.000000</td>\n",
       "      <td>64.900002</td>\n",
       "      <td>47.275986</td>\n",
       "      <td>39407000.0</td>\n",
       "    </tr>\n",
       "    <tr>\n",
       "      <th>2010-01-05</th>\n",
       "      <td>65.000000</td>\n",
       "      <td>65.099998</td>\n",
       "      <td>63.900002</td>\n",
       "      <td>64.500000</td>\n",
       "      <td>46.984604</td>\n",
       "      <td>37138000.0</td>\n",
       "    </tr>\n",
       "    <tr>\n",
       "      <th>2010-01-06</th>\n",
       "      <td>64.500000</td>\n",
       "      <td>64.900002</td>\n",
       "      <td>63.700001</td>\n",
       "      <td>64.900002</td>\n",
       "      <td>47.275986</td>\n",
       "      <td>49261000.0</td>\n",
       "    </tr>\n",
       "    <tr>\n",
       "      <th>2010-01-07</th>\n",
       "      <td>64.900002</td>\n",
       "      <td>65.000000</td>\n",
       "      <td>64.199997</td>\n",
       "      <td>64.199997</td>\n",
       "      <td>46.766075</td>\n",
       "      <td>42134000.0</td>\n",
       "    </tr>\n",
       "    <tr>\n",
       "      <th>2010-01-08</th>\n",
       "      <td>63.500000</td>\n",
       "      <td>64.300003</td>\n",
       "      <td>63.500000</td>\n",
       "      <td>64.000000</td>\n",
       "      <td>46.620388</td>\n",
       "      <td>46076000.0</td>\n",
       "    </tr>\n",
       "  </tbody>\n",
       "</table>\n",
       "</div>"
      ],
      "text/plain": [
       "                 Open       High        Low      Close  Adj Close      Volume\n",
       "Date                                                                         \n",
       "2010-01-04  65.000000  65.000000  64.000000  64.900002  47.275986  39407000.0\n",
       "2010-01-05  65.000000  65.099998  63.900002  64.500000  46.984604  37138000.0\n",
       "2010-01-06  64.500000  64.900002  63.700001  64.900002  47.275986  49261000.0\n",
       "2010-01-07  64.900002  65.000000  64.199997  64.199997  46.766075  42134000.0\n",
       "2010-01-08  63.500000  64.300003  63.500000  64.000000  46.620388  46076000.0"
      ]
     },
     "execution_count": 6,
     "metadata": {},
     "output_type": "execute_result"
    }
   ],
   "source": [
    "tw2330.head()"
   ]
  },
  {
   "cell_type": "code",
   "execution_count": 8,
   "metadata": {},
   "outputs": [
    {
     "name": "stdout",
     "output_type": "stream",
     "text": [
      "<class 'pandas.core.frame.DataFrame'>\n",
      "DatetimeIndex: 2207 entries, 2010-01-04 to 2018-12-11\n",
      "Data columns (total 6 columns):\n",
      "Open         2201 non-null float64\n",
      "High         2201 non-null float64\n",
      "Low          2201 non-null float64\n",
      "Close        2201 non-null float64\n",
      "Adj Close    2201 non-null float64\n",
      "Volume       2201 non-null float64\n",
      "dtypes: float64(6)\n",
      "memory usage: 120.7 KB\n"
     ]
    }
   ],
   "source": [
    "tw2330.info()"
   ]
  },
  {
   "cell_type": "code",
   "execution_count": 9,
   "metadata": {},
   "outputs": [
    {
     "data": {
      "text/html": [
       "<div>\n",
       "<style>\n",
       "    .dataframe thead tr:only-child th {\n",
       "        text-align: right;\n",
       "    }\n",
       "\n",
       "    .dataframe thead th {\n",
       "        text-align: left;\n",
       "    }\n",
       "\n",
       "    .dataframe tbody tr th {\n",
       "        vertical-align: top;\n",
       "    }\n",
       "</style>\n",
       "<table border=\"1\" class=\"dataframe\">\n",
       "  <thead>\n",
       "    <tr style=\"text-align: right;\">\n",
       "      <th></th>\n",
       "      <th>Open</th>\n",
       "      <th>High</th>\n",
       "      <th>Low</th>\n",
       "      <th>Close</th>\n",
       "      <th>Adj Close</th>\n",
       "      <th>Volume</th>\n",
       "    </tr>\n",
       "  </thead>\n",
       "  <tbody>\n",
       "    <tr>\n",
       "      <th>count</th>\n",
       "      <td>2201.000000</td>\n",
       "      <td>2201.000000</td>\n",
       "      <td>2201.000000</td>\n",
       "      <td>2201.000000</td>\n",
       "      <td>2201.000000</td>\n",
       "      <td>2.201000e+03</td>\n",
       "    </tr>\n",
       "    <tr>\n",
       "      <th>mean</th>\n",
       "      <td>132.255975</td>\n",
       "      <td>133.203044</td>\n",
       "      <td>131.205316</td>\n",
       "      <td>132.275829</td>\n",
       "      <td>118.403320</td>\n",
       "      <td>3.710364e+07</td>\n",
       "    </tr>\n",
       "    <tr>\n",
       "      <th>std</th>\n",
       "      <td>58.569892</td>\n",
       "      <td>58.937410</td>\n",
       "      <td>58.181465</td>\n",
       "      <td>58.577908</td>\n",
       "      <td>61.894504</td>\n",
       "      <td>1.849613e+07</td>\n",
       "    </tr>\n",
       "    <tr>\n",
       "      <th>min</th>\n",
       "      <td>57.599998</td>\n",
       "      <td>57.900002</td>\n",
       "      <td>57.000000</td>\n",
       "      <td>57.200001</td>\n",
       "      <td>41.666969</td>\n",
       "      <td>0.000000e+00</td>\n",
       "    </tr>\n",
       "    <tr>\n",
       "      <th>25%</th>\n",
       "      <td>79.199997</td>\n",
       "      <td>79.800003</td>\n",
       "      <td>78.500000</td>\n",
       "      <td>79.300003</td>\n",
       "      <td>63.673367</td>\n",
       "      <td>2.471910e+07</td>\n",
       "    </tr>\n",
       "    <tr>\n",
       "      <th>50%</th>\n",
       "      <td>122.000000</td>\n",
       "      <td>123.000000</td>\n",
       "      <td>121.000000</td>\n",
       "      <td>122.000000</td>\n",
       "      <td>104.929604</td>\n",
       "      <td>3.342900e+07</td>\n",
       "    </tr>\n",
       "    <tr>\n",
       "      <th>75%</th>\n",
       "      <td>179.000000</td>\n",
       "      <td>180.000000</td>\n",
       "      <td>178.000000</td>\n",
       "      <td>179.000000</td>\n",
       "      <td>167.134354</td>\n",
       "      <td>4.468500e+07</td>\n",
       "    </tr>\n",
       "    <tr>\n",
       "      <th>max</th>\n",
       "      <td>268.000000</td>\n",
       "      <td>268.000000</td>\n",
       "      <td>262.500000</td>\n",
       "      <td>266.000000</td>\n",
       "      <td>265.000000</td>\n",
       "      <td>1.697550e+08</td>\n",
       "    </tr>\n",
       "  </tbody>\n",
       "</table>\n",
       "</div>"
      ],
      "text/plain": [
       "              Open         High          Low        Close    Adj Close  \\\n",
       "count  2201.000000  2201.000000  2201.000000  2201.000000  2201.000000   \n",
       "mean    132.255975   133.203044   131.205316   132.275829   118.403320   \n",
       "std      58.569892    58.937410    58.181465    58.577908    61.894504   \n",
       "min      57.599998    57.900002    57.000000    57.200001    41.666969   \n",
       "25%      79.199997    79.800003    78.500000    79.300003    63.673367   \n",
       "50%     122.000000   123.000000   121.000000   122.000000   104.929604   \n",
       "75%     179.000000   180.000000   178.000000   179.000000   167.134354   \n",
       "max     268.000000   268.000000   262.500000   266.000000   265.000000   \n",
       "\n",
       "             Volume  \n",
       "count  2.201000e+03  \n",
       "mean   3.710364e+07  \n",
       "std    1.849613e+07  \n",
       "min    0.000000e+00  \n",
       "25%    2.471910e+07  \n",
       "50%    3.342900e+07  \n",
       "75%    4.468500e+07  \n",
       "max    1.697550e+08  "
      ]
     },
     "execution_count": 9,
     "metadata": {},
     "output_type": "execute_result"
    }
   ],
   "source": [
    "tw2330.describe()"
   ]
  },
  {
   "cell_type": "code",
   "execution_count": 10,
   "metadata": {},
   "outputs": [
    {
     "data": {
      "text/plain": [
       "Open         float64\n",
       "High         float64\n",
       "Low          float64\n",
       "Close        float64\n",
       "Adj Close    float64\n",
       "Volume       float64\n",
       "dtype: object"
      ]
     },
     "execution_count": 10,
     "metadata": {},
     "output_type": "execute_result"
    }
   ],
   "source": [
    "tw2330.dtypes"
   ]
  },
  {
   "cell_type": "code",
   "execution_count": 11,
   "metadata": {},
   "outputs": [
    {
     "data": {
      "text/plain": [
       "57.200001"
      ]
     },
     "execution_count": 11,
     "metadata": {},
     "output_type": "execute_result"
    }
   ],
   "source": [
    "tw2330['Close'].min()"
   ]
  },
  {
   "cell_type": "code",
   "execution_count": 12,
   "metadata": {},
   "outputs": [
    {
     "data": {
      "text/plain": [
       "266.0"
      ]
     },
     "execution_count": 12,
     "metadata": {},
     "output_type": "execute_result"
    }
   ],
   "source": [
    "tw2330['Close'].max()"
   ]
  },
  {
   "cell_type": "code",
   "execution_count": 13,
   "metadata": {},
   "outputs": [
    {
     "data": {
      "text/plain": [
       "2201"
      ]
     },
     "execution_count": 13,
     "metadata": {},
     "output_type": "execute_result"
    }
   ],
   "source": [
    "tw2330['Close'].count()"
   ]
  },
  {
   "cell_type": "code",
   "execution_count": 14,
   "metadata": {},
   "outputs": [
    {
     "data": {
      "text/html": [
       "<div>\n",
       "<style>\n",
       "    .dataframe thead tr:only-child th {\n",
       "        text-align: right;\n",
       "    }\n",
       "\n",
       "    .dataframe thead th {\n",
       "        text-align: left;\n",
       "    }\n",
       "\n",
       "    .dataframe tbody tr th {\n",
       "        vertical-align: top;\n",
       "    }\n",
       "</style>\n",
       "<table border=\"1\" class=\"dataframe\">\n",
       "  <thead>\n",
       "    <tr style=\"text-align: right;\">\n",
       "      <th></th>\n",
       "      <th>Open</th>\n",
       "      <th>High</th>\n",
       "      <th>Low</th>\n",
       "      <th>Close</th>\n",
       "      <th>Adj Close</th>\n",
       "      <th>Volume</th>\n",
       "    </tr>\n",
       "    <tr>\n",
       "      <th>Date</th>\n",
       "      <th></th>\n",
       "      <th></th>\n",
       "      <th></th>\n",
       "      <th></th>\n",
       "      <th></th>\n",
       "      <th></th>\n",
       "    </tr>\n",
       "  </thead>\n",
       "  <tbody>\n",
       "    <tr>\n",
       "      <th>2010-01-04</th>\n",
       "      <td>65.000000</td>\n",
       "      <td>65.000000</td>\n",
       "      <td>64.000000</td>\n",
       "      <td>64.900002</td>\n",
       "      <td>47.275986</td>\n",
       "      <td>39407000.0</td>\n",
       "    </tr>\n",
       "    <tr>\n",
       "      <th>2010-01-05</th>\n",
       "      <td>65.000000</td>\n",
       "      <td>65.099998</td>\n",
       "      <td>63.900002</td>\n",
       "      <td>64.500000</td>\n",
       "      <td>46.984604</td>\n",
       "      <td>37138000.0</td>\n",
       "    </tr>\n",
       "    <tr>\n",
       "      <th>2010-01-06</th>\n",
       "      <td>64.500000</td>\n",
       "      <td>64.900002</td>\n",
       "      <td>63.700001</td>\n",
       "      <td>64.900002</td>\n",
       "      <td>47.275986</td>\n",
       "      <td>49261000.0</td>\n",
       "    </tr>\n",
       "    <tr>\n",
       "      <th>2010-01-07</th>\n",
       "      <td>64.900002</td>\n",
       "      <td>65.000000</td>\n",
       "      <td>64.199997</td>\n",
       "      <td>64.199997</td>\n",
       "      <td>46.766075</td>\n",
       "      <td>42134000.0</td>\n",
       "    </tr>\n",
       "    <tr>\n",
       "      <th>2010-01-08</th>\n",
       "      <td>63.500000</td>\n",
       "      <td>64.300003</td>\n",
       "      <td>63.500000</td>\n",
       "      <td>64.000000</td>\n",
       "      <td>46.620388</td>\n",
       "      <td>46076000.0</td>\n",
       "    </tr>\n",
       "  </tbody>\n",
       "</table>\n",
       "</div>"
      ],
      "text/plain": [
       "                 Open       High        Low      Close  Adj Close      Volume\n",
       "Date                                                                         \n",
       "2010-01-04  65.000000  65.000000  64.000000  64.900002  47.275986  39407000.0\n",
       "2010-01-05  65.000000  65.099998  63.900002  64.500000  46.984604  37138000.0\n",
       "2010-01-06  64.500000  64.900002  63.700001  64.900002  47.275986  49261000.0\n",
       "2010-01-07  64.900002  65.000000  64.199997  64.199997  46.766075  42134000.0\n",
       "2010-01-08  63.500000  64.300003  63.500000  64.000000  46.620388  46076000.0"
      ]
     },
     "execution_count": 14,
     "metadata": {},
     "output_type": "execute_result"
    }
   ],
   "source": [
    "tw2330.head()"
   ]
  },
  {
   "cell_type": "code",
   "execution_count": 15,
   "metadata": {},
   "outputs": [
    {
     "data": {
      "text/html": [
       "<div>\n",
       "<style>\n",
       "    .dataframe thead tr:only-child th {\n",
       "        text-align: right;\n",
       "    }\n",
       "\n",
       "    .dataframe thead th {\n",
       "        text-align: left;\n",
       "    }\n",
       "\n",
       "    .dataframe tbody tr th {\n",
       "        vertical-align: top;\n",
       "    }\n",
       "</style>\n",
       "<table border=\"1\" class=\"dataframe\">\n",
       "  <thead>\n",
       "    <tr style=\"text-align: right;\">\n",
       "      <th></th>\n",
       "      <th>Open</th>\n",
       "      <th>High</th>\n",
       "      <th>Low</th>\n",
       "      <th>Close</th>\n",
       "      <th>Adj Close</th>\n",
       "      <th>Volume</th>\n",
       "    </tr>\n",
       "    <tr>\n",
       "      <th>Date</th>\n",
       "      <th></th>\n",
       "      <th></th>\n",
       "      <th></th>\n",
       "      <th></th>\n",
       "      <th></th>\n",
       "      <th></th>\n",
       "    </tr>\n",
       "  </thead>\n",
       "  <tbody>\n",
       "    <tr>\n",
       "      <th>2018-12-05</th>\n",
       "      <td>226.5</td>\n",
       "      <td>227.5</td>\n",
       "      <td>225.0</td>\n",
       "      <td>226.0</td>\n",
       "      <td>226.0</td>\n",
       "      <td>42835576.0</td>\n",
       "    </tr>\n",
       "    <tr>\n",
       "      <th>2018-12-06</th>\n",
       "      <td>220.0</td>\n",
       "      <td>222.0</td>\n",
       "      <td>219.5</td>\n",
       "      <td>220.0</td>\n",
       "      <td>220.0</td>\n",
       "      <td>40149112.0</td>\n",
       "    </tr>\n",
       "    <tr>\n",
       "      <th>2018-12-07</th>\n",
       "      <td>222.5</td>\n",
       "      <td>223.5</td>\n",
       "      <td>220.5</td>\n",
       "      <td>221.0</td>\n",
       "      <td>221.0</td>\n",
       "      <td>25063568.0</td>\n",
       "    </tr>\n",
       "    <tr>\n",
       "      <th>2018-12-10</th>\n",
       "      <td>219.5</td>\n",
       "      <td>220.0</td>\n",
       "      <td>218.5</td>\n",
       "      <td>219.0</td>\n",
       "      <td>219.0</td>\n",
       "      <td>19433461.0</td>\n",
       "    </tr>\n",
       "    <tr>\n",
       "      <th>2018-12-11</th>\n",
       "      <td>220.0</td>\n",
       "      <td>221.5</td>\n",
       "      <td>219.0</td>\n",
       "      <td>221.5</td>\n",
       "      <td>221.5</td>\n",
       "      <td>7613000.0</td>\n",
       "    </tr>\n",
       "  </tbody>\n",
       "</table>\n",
       "</div>"
      ],
      "text/plain": [
       "             Open   High    Low  Close  Adj Close      Volume\n",
       "Date                                                         \n",
       "2018-12-05  226.5  227.5  225.0  226.0      226.0  42835576.0\n",
       "2018-12-06  220.0  222.0  219.5  220.0      220.0  40149112.0\n",
       "2018-12-07  222.5  223.5  220.5  221.0      221.0  25063568.0\n",
       "2018-12-10  219.5  220.0  218.5  219.0      219.0  19433461.0\n",
       "2018-12-11  220.0  221.5  219.0  221.5      221.5   7613000.0"
      ]
     },
     "execution_count": 15,
     "metadata": {},
     "output_type": "execute_result"
    }
   ],
   "source": [
    "tw2330.tail()"
   ]
  },
  {
   "cell_type": "code",
   "execution_count": 16,
   "metadata": {},
   "outputs": [
    {
     "data": {
      "text/plain": [
       "Open         1.322560e+02\n",
       "High         1.332030e+02\n",
       "Low          1.312053e+02\n",
       "Close        1.322758e+02\n",
       "Adj Close    1.184033e+02\n",
       "Volume       3.710364e+07\n",
       "dtype: float64"
      ]
     },
     "execution_count": 16,
     "metadata": {},
     "output_type": "execute_result"
    }
   ],
   "source": [
    "tw2330.mean()"
   ]
  },
  {
   "cell_type": "code",
   "execution_count": 17,
   "metadata": {},
   "outputs": [
    {
     "data": {
      "text/plain": [
       "132.27582919263972"
      ]
     },
     "execution_count": 17,
     "metadata": {},
     "output_type": "execute_result"
    }
   ],
   "source": [
    "tw2330['Close'].mean()"
   ]
  },
  {
   "cell_type": "code",
   "execution_count": 18,
   "metadata": {},
   "outputs": [
    {
     "data": {
      "text/plain": [
       "122.0"
      ]
     },
     "execution_count": 18,
     "metadata": {},
     "output_type": "execute_result"
    }
   ],
   "source": [
    "tw2330['Close'].median()"
   ]
  },
  {
   "cell_type": "code",
   "execution_count": 19,
   "metadata": {},
   "outputs": [
    {
     "data": {
      "text/plain": [
       "122.0"
      ]
     },
     "execution_count": 19,
     "metadata": {},
     "output_type": "execute_result"
    }
   ],
   "source": [
    "tw2330['Close'].median()"
   ]
  },
  {
   "cell_type": "code",
   "execution_count": 20,
   "metadata": {},
   "outputs": [
    {
     "data": {
      "text/plain": [
       "179.0"
      ]
     },
     "execution_count": 20,
     "metadata": {},
     "output_type": "execute_result"
    }
   ],
   "source": [
    "tw2330['Close'].quantile(0.75)"
   ]
  },
  {
   "cell_type": "code",
   "execution_count": 21,
   "metadata": {},
   "outputs": [
    {
     "data": {
      "text/plain": [
       "79.300003"
      ]
     },
     "execution_count": 21,
     "metadata": {},
     "output_type": "execute_result"
    }
   ],
   "source": [
    "tw2330['Close'].quantile(0.25)"
   ]
  },
  {
   "cell_type": "code",
   "execution_count": 22,
   "metadata": {},
   "outputs": [
    {
     "data": {
      "text/plain": [
       "99.699997"
      ]
     },
     "execution_count": 22,
     "metadata": {},
     "output_type": "execute_result"
    }
   ],
   "source": [
    "tw2330['Close'].quantile(0.75) - tw2330['Close'].quantile(0.25)"
   ]
  },
  {
   "cell_type": "code",
   "execution_count": 23,
   "metadata": {},
   "outputs": [
    {
     "data": {
      "text/plain": [
       "count    2201.000000\n",
       "mean      132.275829\n",
       "std        58.577908\n",
       "min        57.200001\n",
       "25%        79.300003\n",
       "50%       122.000000\n",
       "75%       179.000000\n",
       "max       266.000000\n",
       "Name: Close, dtype: float64"
      ]
     },
     "execution_count": 23,
     "metadata": {},
     "output_type": "execute_result"
    }
   ],
   "source": [
    "tw2330['Close'].describe()"
   ]
  },
  {
   "cell_type": "code",
   "execution_count": 25,
   "metadata": {},
   "outputs": [
    {
     "name": "stdout",
     "output_type": "stream",
     "text": [
      "Populating the interactive namespace from numpy and matplotlib\n"
     ]
    },
    {
     "data": {
      "text/plain": [
       "<matplotlib.axes._subplots.AxesSubplot at 0x11c3ca470>"
      ]
     },
     "execution_count": 25,
     "metadata": {},
     "output_type": "execute_result"
    },
    {
     "data": {
      "image/png": "[encoded data removed]",
      "text/plain": [
       "<Figure size 432x288 with 1 Axes>"
      ]
     },
     "metadata": {},
     "output_type": "display_data"
    }
   ],
   "source": [
    "%pylab inline\n",
    "tw2330['Close'].plot(kind = 'box')"
   ]
  },
  {
   "cell_type": "code",
   "execution_count": 37,
   "metadata": {},
   "outputs": [
    {
     "data": {
      "text/plain": [
       "<matplotlib.axes._subplots.AxesSubplot at 0x11c5b1ba8>"
      ]
     },
     "execution_count": 37,
     "metadata": {},
     "output_type": "execute_result"
    },
    {
     "data": {
      "image/png": "[encoded data removed]",
      "text/plain": [
       "<Figure size 432x288 with 1 Axes>"
      ]
     },
     "metadata": {},
     "output_type": "display_data"
    }
   ],
   "source": [
    "import numpy as np\n",
    "salaries = [abs(np.random.normal(1) * 50000) for e in range(100)]\n",
    "salaries.append(3000000)\n",
    "pd_salary = pandas.Series(salaries)\n",
    "pd_salary.plot(kind = 'box')"
   ]
  },
  {
   "cell_type": "code",
   "execution_count": 40,
   "metadata": {},
   "outputs": [
    {
     "data": {
      "text/plain": [
       "<matplotlib.axes._subplots.AxesSubplot at 0x11ccc3358>"
      ]
     },
     "execution_count": 40,
     "metadata": {},
     "output_type": "execute_result"
    },
    {
     "data": {
      "image/png": "[encoded data removed]",
      "text/plain": [
       "<Figure size 432x288 with 1 Axes>"
      ]
     },
     "metadata": {},
     "output_type": "display_data"
    }
   ],
   "source": [
    "tw2330['Close'].plot(kind = 'hist', bins=20)"
   ]
  },
  {
   "cell_type": "code",
   "execution_count": 41,
   "metadata": {},
   "outputs": [
    {
     "data": {
      "text/plain": [
       "58.577907600532434"
      ]
     },
     "execution_count": 41,
     "metadata": {},
     "output_type": "execute_result"
    }
   ],
   "source": [
    "tw2330['Close'].std()"
   ]
  },
  {
   "cell_type": "code",
   "execution_count": 43,
   "metadata": {},
   "outputs": [
    {
     "data": {
      "text/plain": [
       "3431.3712588565154"
      ]
     },
     "execution_count": 43,
     "metadata": {},
     "output_type": "execute_result"
    }
   ],
   "source": [
    "tw2330['Close'].std() ** 2"
   ]
  },
  {
   "cell_type": "code",
   "execution_count": 42,
   "metadata": {},
   "outputs": [
    {
     "data": {
      "text/plain": [
       "3431.3712588565154"
      ]
     },
     "execution_count": 42,
     "metadata": {},
     "output_type": "execute_result"
    }
   ],
   "source": [
    "tw2330['Close'].var()"
   ]
  },
  {
   "cell_type": "code",
   "execution_count": 49,
   "metadata": {},
   "outputs": [],
   "source": [
    "tw2330['DailyReturn'] = tw2330['Close'] / tw2330['Close'].shift(1) - 1"
   ]
  },
  {
   "cell_type": "code",
   "execution_count": 50,
   "metadata": {},
   "outputs": [
    {
     "data": {
      "text/plain": [
       "<matplotlib.axes._subplots.AxesSubplot at 0x11cdc4a58>"
      ]
     },
     "execution_count": 50,
     "metadata": {},
     "output_type": "execute_result"
    },
    {
     "data": {
      "image/png": "[encoded data removed]",
      "text/plain": [
       "<Figure size 432x288 with 1 Axes>"
      ]
     },
     "metadata": {},
     "output_type": "display_data"
    }
   ],
   "source": [
    "tw2330['DailyReturn'].plot(kind = 'hist')"
   ]
  },
  {
   "cell_type": "code",
   "execution_count": 51,
   "metadata": {},
   "outputs": [],
   "source": [
    "tw2330['DailyReturn'] = tw2330['Close'].pct_change(1) "
   ]
  },
  {
   "cell_type": "code",
   "execution_count": 53,
   "metadata": {},
   "outputs": [
    {
     "data": {
      "text/plain": [
       "Date\n",
       "2010-01-04         NaN\n",
       "2010-01-05         NaN\n",
       "2010-01-06         NaN\n",
       "2010-01-07         NaN\n",
       "2010-01-08         NaN\n",
       "2010-01-11   -0.006163\n",
       "2010-01-12   -0.013954\n",
       "2010-01-13   -0.032358\n",
       "2010-01-14   -0.015576\n",
       "2010-01-15   -0.007812\n",
       "2010-01-18   -0.024806\n",
       "2010-01-19   -0.017296\n",
       "2010-01-20    0.003185\n",
       "2010-01-21   -0.009494\n",
       "2010-01-22   -0.037795\n",
       "2010-01-25   -0.039746\n",
       "2010-01-26   -0.038400\n",
       "2010-01-27   -0.053968\n",
       "2010-01-28   -0.041534\n",
       "2010-01-29    0.006547\n",
       "2010-02-01   -0.009934\n",
       "2010-02-02   -0.018303\n",
       "2010-02-03    0.003356\n",
       "2010-02-04   -0.015000\n",
       "2010-02-05   -0.069919\n",
       "2010-02-08   -0.040134\n",
       "2010-02-09   -0.006780\n",
       "2010-02-10   -0.023411\n",
       "2010-02-22   -0.001692\n",
       "2010-02-23    0.045455\n",
       "                ...   \n",
       "2018-10-31    0.019608\n",
       "2018-11-01    0.072893\n",
       "2018-11-02    0.070136\n",
       "2018-11-05    0.056180\n",
       "2018-11-06    0.051570\n",
       "2018-11-07    0.000000\n",
       "2018-11-08    0.004246\n",
       "2018-11-09   -0.023256\n",
       "2018-11-12   -0.014894\n",
       "2018-11-13   -0.029851\n",
       "2018-11-14   -0.023504\n",
       "2018-11-15   -0.023256\n",
       "2018-11-16   -0.021645\n",
       "2018-11-19   -0.041037\n",
       "2018-11-20   -0.041758\n",
       "2018-11-21   -0.041575\n",
       "2018-11-22   -0.051948\n",
       "2018-11-23   -0.033186\n",
       "2018-11-26    0.004505\n",
       "2018-11-27    0.027523\n",
       "2018-11-28    0.034247\n",
       "2018-11-29    0.045662\n",
       "2018-11-30    0.032037\n",
       "2018-12-03    0.053812\n",
       "2018-12-04    0.044643\n",
       "2018-12-05   -0.002208\n",
       "2018-12-06   -0.039301\n",
       "2018-12-07   -0.019956\n",
       "2018-12-10   -0.068085\n",
       "2018-12-11   -0.053419\n",
       "Name: Close, Length: 2207, dtype: float64"
      ]
     },
     "execution_count": 53,
     "metadata": {},
     "output_type": "execute_result"
    }
   ],
   "source": [
    "tw2330['Close'].pct_change(5) "
   ]
  },
  {
   "cell_type": "code",
   "execution_count": 54,
   "metadata": {},
   "outputs": [],
   "source": [
    "from pandas_datareader import get_data_yahoo\n",
    "tw2498 = get_data_yahoo('2498.TW')"
   ]
  },
  {
   "cell_type": "code",
   "execution_count": 55,
   "metadata": {},
   "outputs": [],
   "source": [
    "tw2498['DailyReturn'] = tw2498['Close'].pct_change(1) "
   ]
  },
  {
   "cell_type": "code",
   "execution_count": 56,
   "metadata": {},
   "outputs": [
    {
     "data": {
      "text/plain": [
       "<matplotlib.axes._subplots.AxesSubplot at 0x11ce51d68>"
      ]
     },
     "execution_count": 56,
     "metadata": {},
     "output_type": "execute_result"
    },
    {
     "data": {
      "image/png": "[encoded data removed]",
      "text/plain": [
       "<Figure size 432x288 with 1 Axes>"
      ]
     },
     "metadata": {},
     "output_type": "display_data"
    }
   ],
   "source": [
    "tw2498['DailyReturn'].plot(kind = 'hist')"
   ]
  },
  {
   "cell_type": "code",
   "execution_count": 58,
   "metadata": {},
   "outputs": [],
   "source": [
    "m = pandas.merge(tw2498, tw2330, left_index=True, right_index=True)"
   ]
  },
  {
   "cell_type": "code",
   "execution_count": 62,
   "metadata": {},
   "outputs": [
    {
     "data": {
      "text/plain": [
       "<matplotlib.axes._subplots.AxesSubplot at 0x11dd2e400>"
      ]
     },
     "execution_count": 62,
     "metadata": {},
     "output_type": "execute_result"
    },
    {
     "data": {
      "image/png": "[encoded data removed]",
      "text/plain": [
       "<Figure size 432x288 with 1 Axes>"
      ]
     },
     "metadata": {},
     "output_type": "display_data"
    }
   ],
   "source": [
    "m[['DailyReturn_y','DailyReturn_x']].plot(kind = 'hist')"
   ]
  },
  {
   "cell_type": "code",
   "execution_count": 63,
   "metadata": {},
   "outputs": [
    {
     "data": {
      "text/plain": [
       "-0.0005302621381676407"
      ]
     },
     "execution_count": 63,
     "metadata": {},
     "output_type": "execute_result"
    }
   ],
   "source": [
    "tw2498['DailyReturn'].mean()"
   ]
  },
  {
   "cell_type": "code",
   "execution_count": 65,
   "metadata": {},
   "outputs": [
    {
     "data": {
      "text/plain": [
       "0.02932342915219205"
      ]
     },
     "execution_count": 65,
     "metadata": {},
     "output_type": "execute_result"
    }
   ],
   "source": [
    "tw2498['DailyReturn'].std()"
   ]
  },
  {
   "cell_type": "code",
   "execution_count": 64,
   "metadata": {},
   "outputs": [
    {
     "data": {
      "text/plain": [
       "0.0006643369095200766"
      ]
     },
     "execution_count": 64,
     "metadata": {},
     "output_type": "execute_result"
    }
   ],
   "source": [
    "tw2330['DailyReturn'].mean()"
   ]
  },
  {
   "cell_type": "code",
   "execution_count": 66,
   "metadata": {},
   "outputs": [
    {
     "data": {
      "text/plain": [
       "0.014577131346863496"
      ]
     },
     "execution_count": 66,
     "metadata": {},
     "output_type": "execute_result"
    }
   ],
   "source": [
    "tw2330['DailyReturn'].std()"
   ]
  },
  {
   "cell_type": "code",
   "execution_count": 69,
   "metadata": {},
   "outputs": [],
   "source": [
    "from pandas_datareader import get_data_yahoo\n",
    "twii = get_data_yahoo('^TWII')\n",
    "tw2330 = get_data_yahoo('2330.TW')\n"
   ]
  },
  {
   "cell_type": "code",
   "execution_count": 74,
   "metadata": {},
   "outputs": [],
   "source": [
    "result = pandas.merge(twii, tw2330, left_index=True, right_index=True, how = 'inner')"
   ]
  },
  {
   "cell_type": "code",
   "execution_count": 75,
   "metadata": {},
   "outputs": [
    {
     "data": {
      "text/html": [
       "<div>\n",
       "<style>\n",
       "    .dataframe thead tr:only-child th {\n",
       "        text-align: right;\n",
       "    }\n",
       "\n",
       "    .dataframe thead th {\n",
       "        text-align: left;\n",
       "    }\n",
       "\n",
       "    .dataframe tbody tr th {\n",
       "        vertical-align: top;\n",
       "    }\n",
       "</style>\n",
       "<table border=\"1\" class=\"dataframe\">\n",
       "  <thead>\n",
       "    <tr style=\"text-align: right;\">\n",
       "      <th></th>\n",
       "      <th>Close_x</th>\n",
       "      <th>Close_y</th>\n",
       "    </tr>\n",
       "  </thead>\n",
       "  <tbody>\n",
       "    <tr>\n",
       "      <th>Close_x</th>\n",
       "      <td>1.193857e+06</td>\n",
       "      <td>56292.805306</td>\n",
       "    </tr>\n",
       "    <tr>\n",
       "      <th>Close_y</th>\n",
       "      <td>5.629281e+04</td>\n",
       "      <td>3431.330816</td>\n",
       "    </tr>\n",
       "  </tbody>\n",
       "</table>\n",
       "</div>"
      ],
      "text/plain": [
       "              Close_x       Close_y\n",
       "Close_x  1.193857e+06  56292.805306\n",
       "Close_y  5.629281e+04   3431.330816"
      ]
     },
     "execution_count": 75,
     "metadata": {},
     "output_type": "execute_result"
    }
   ],
   "source": [
    "result[['Close_x', 'Close_y']].cov()"
   ]
  },
  {
   "cell_type": "code",
   "execution_count": 77,
   "metadata": {},
   "outputs": [
    {
     "data": {
      "text/html": [
       "<div>\n",
       "<style>\n",
       "    .dataframe thead tr:only-child th {\n",
       "        text-align: right;\n",
       "    }\n",
       "\n",
       "    .dataframe thead th {\n",
       "        text-align: left;\n",
       "    }\n",
       "\n",
       "    .dataframe tbody tr th {\n",
       "        vertical-align: top;\n",
       "    }\n",
       "</style>\n",
       "<table border=\"1\" class=\"dataframe\">\n",
       "  <thead>\n",
       "    <tr style=\"text-align: right;\">\n",
       "      <th></th>\n",
       "      <th>Close_x</th>\n",
       "      <th>Close_y</th>\n",
       "    </tr>\n",
       "  </thead>\n",
       "  <tbody>\n",
       "    <tr>\n",
       "      <th>Close_x</th>\n",
       "      <td>1.00000</td>\n",
       "      <td>0.87879</td>\n",
       "    </tr>\n",
       "    <tr>\n",
       "      <th>Close_y</th>\n",
       "      <td>0.87879</td>\n",
       "      <td>1.00000</td>\n",
       "    </tr>\n",
       "  </tbody>\n",
       "</table>\n",
       "</div>"
      ],
      "text/plain": [
       "         Close_x  Close_y\n",
       "Close_x  1.00000  0.87879\n",
       "Close_y  0.87879  1.00000"
      ]
     },
     "execution_count": 77,
     "metadata": {},
     "output_type": "execute_result"
    }
   ],
   "source": [
    "result[['Close_x', 'Close_y']].corr()"
   ]
  },
  {
   "cell_type": "code",
   "execution_count": 113,
   "metadata": {},
   "outputs": [],
   "source": [
    "twii = get_data_yahoo('^TWII')\n",
    "twii = twii[['Close']]\n",
    "twii.columns = ['twii']\n",
    "m = twii"
   ]
  },
  {
   "cell_type": "code",
   "execution_count": 115,
   "metadata": {},
   "outputs": [],
   "source": [
    "from pandas_datareader import get_data_yahoo\n",
    "import time\n",
    "for s in ['2330.TW', '2882.TW', '2454.TW', '2317.TW', '2498.TW']:\n",
    "    time.sleep(1)\n",
    "    df = get_data_yahoo(s)\n",
    "    close_df = df[['Close']]\n",
    "    close_df.columns = [s]\n",
    "    m = pandas.merge(m,close_df, left_index=True, right_index= True)\n"
   ]
  },
  {
   "cell_type": "code",
   "execution_count": 117,
   "metadata": {},
   "outputs": [
    {
     "data": {
      "text/html": [
       "<div>\n",
       "<style>\n",
       "    .dataframe thead tr:only-child th {\n",
       "        text-align: right;\n",
       "    }\n",
       "\n",
       "    .dataframe thead th {\n",
       "        text-align: left;\n",
       "    }\n",
       "\n",
       "    .dataframe tbody tr th {\n",
       "        vertical-align: top;\n",
       "    }\n",
       "</style>\n",
       "<table border=\"1\" class=\"dataframe\">\n",
       "  <thead>\n",
       "    <tr style=\"text-align: right;\">\n",
       "      <th></th>\n",
       "      <th>twii</th>\n",
       "      <th>2330.TW</th>\n",
       "      <th>2882.TW</th>\n",
       "      <th>2454.TW</th>\n",
       "      <th>2317.TW</th>\n",
       "      <th>2498.TW</th>\n",
       "    </tr>\n",
       "  </thead>\n",
       "  <tbody>\n",
       "    <tr>\n",
       "      <th>twii</th>\n",
       "      <td>1.000000</td>\n",
       "      <td>0.878793</td>\n",
       "      <td>0.849887</td>\n",
       "      <td>-0.150094</td>\n",
       "      <td>0.777100</td>\n",
       "      <td>-0.427815</td>\n",
       "    </tr>\n",
       "    <tr>\n",
       "      <th>2330.TW</th>\n",
       "      <td>0.878793</td>\n",
       "      <td>1.000000</td>\n",
       "      <td>0.691509</td>\n",
       "      <td>-0.445988</td>\n",
       "      <td>0.731306</td>\n",
       "      <td>-0.683020</td>\n",
       "    </tr>\n",
       "    <tr>\n",
       "      <th>2882.TW</th>\n",
       "      <td>0.849887</td>\n",
       "      <td>0.691509</td>\n",
       "      <td>1.000000</td>\n",
       "      <td>0.125874</td>\n",
       "      <td>0.713956</td>\n",
       "      <td>-0.481945</td>\n",
       "    </tr>\n",
       "    <tr>\n",
       "      <th>2454.TW</th>\n",
       "      <td>-0.150094</td>\n",
       "      <td>-0.445988</td>\n",
       "      <td>0.125874</td>\n",
       "      <td>1.000000</td>\n",
       "      <td>-0.126283</td>\n",
       "      <td>0.150926</td>\n",
       "    </tr>\n",
       "    <tr>\n",
       "      <th>2317.TW</th>\n",
       "      <td>0.777100</td>\n",
       "      <td>0.731306</td>\n",
       "      <td>0.713956</td>\n",
       "      <td>-0.126283</td>\n",
       "      <td>1.000000</td>\n",
       "      <td>-0.519287</td>\n",
       "    </tr>\n",
       "    <tr>\n",
       "      <th>2498.TW</th>\n",
       "      <td>-0.427815</td>\n",
       "      <td>-0.683020</td>\n",
       "      <td>-0.481945</td>\n",
       "      <td>0.150926</td>\n",
       "      <td>-0.519287</td>\n",
       "      <td>1.000000</td>\n",
       "    </tr>\n",
       "  </tbody>\n",
       "</table>\n",
       "</div>"
      ],
      "text/plain": [
       "             twii   2330.TW   2882.TW   2454.TW   2317.TW   2498.TW\n",
       "twii     1.000000  0.878793  0.849887 -0.150094  0.777100 -0.427815\n",
       "2330.TW  0.878793  1.000000  0.691509 -0.445988  0.731306 -0.683020\n",
       "2882.TW  0.849887  0.691509  1.000000  0.125874  0.713956 -0.481945\n",
       "2454.TW -0.150094 -0.445988  0.125874  1.000000 -0.126283  0.150926\n",
       "2317.TW  0.777100  0.731306  0.713956 -0.126283  1.000000 -0.519287\n",
       "2498.TW -0.427815 -0.683020 -0.481945  0.150926 -0.519287  1.000000"
      ]
     },
     "execution_count": 117,
     "metadata": {},
     "output_type": "execute_result"
    }
   ],
   "source": [
    "m.corr()"
   ]
  },
  {
   "cell_type": "code",
   "execution_count": null,
   "metadata": {},
   "outputs": [],
   "source": []
  }
 ],
 "metadata": {
  "kernelspec": {
   "display_name": "Python 3",
   "language": "python",
   "name": "python3"
  },
  "language_info": {
   "codemirror_mode": {
    "name": "ipython",
    "version": 3
   },
   "file_extension": ".py",
   "mimetype": "text/x-python",
   "name": "python",
   "nbconvert_exporter": "python",
   "pygments_lexer": "ipython3",
   "version": "3.6.2"
  }
 },
 "nbformat": 4,
 "nbformat_minor": 2
}
